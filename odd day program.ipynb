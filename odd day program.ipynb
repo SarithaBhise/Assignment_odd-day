{
 "cells": [
  {
   "cell_type": "markdown",
   "id": "4b0020b1",
   "metadata": {},
   "source": [
    "### program for not going out on odd day"
   ]
  },
  {
   "cell_type": "code",
   "execution_count": 10,
   "id": "c0a45188",
   "metadata": {},
   "outputs": [
    {
     "name": "stdout",
     "output_type": "stream",
     "text": [
      "enter a number :45\n",
      "its an odd day dont go out\n"
     ]
    }
   ],
   "source": [
    "x=int(input(\"enter a number :\"))\n",
    "if x%2!=0:\n",
    "    print(\"its an odd day dont go out\")\n",
    "else:\n",
    "    print(\"you can go out\")"
   ]
  },
  {
   "cell_type": "code",
   "execution_count": null,
   "id": "d4fee73f",
   "metadata": {},
   "outputs": [],
   "source": []
  }
 ],
 "metadata": {
  "kernelspec": {
   "display_name": "Python 3 (ipykernel)",
   "language": "python",
   "name": "python3"
  },
  "language_info": {
   "codemirror_mode": {
    "name": "ipython",
    "version": 3
   },
   "file_extension": ".py",
   "mimetype": "text/x-python",
   "name": "python",
   "nbconvert_exporter": "python",
   "pygments_lexer": "ipython3",
   "version": "3.9.13"
  }
 },
 "nbformat": 4,
 "nbformat_minor": 5
}
